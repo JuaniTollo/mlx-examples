{
 "cells": [
  {
   "cell_type": "code",
   "execution_count": 1,
   "metadata": {},
   "outputs": [],
   "source": [
    "import numpy as np\n",
    "import os"
   ]
  },
  {
   "cell_type": "code",
   "execution_count": 2,
   "metadata": {},
   "outputs": [],
   "source": [
    "def devolverUltimaPosicionNoNula(array):\n",
    "    # Inicializa una lista para almacenar los valores deseados\n",
    "    valores_finales_no_cero = []\n",
    "\n",
    "    # Itera sobre cada uno de los vectores en el array\n",
    "    for vector in array:\n",
    "        # Filtra el vector para quedarte solo con los valores no cero\n",
    "        valores_no_cero = vector[vector != 0]\n",
    "        # Obtiene el último valor no cero, si existe\n",
    "        if valores_no_cero.size > 0:\n",
    "            ultimo_valor_no_cero = valores_no_cero[-1]\n",
    "        else:\n",
    "            ultimo_valor_no_cero = None  # O lo que consideres apropiado para indicar que no hay valores no cero\n",
    "        # Agrega el valor a la lista\n",
    "        valores_finales_no_cero.append(ultimo_valor_no_cero)\n",
    "    \n",
    "    # Muestra los resultados\n",
    "    return np.array(valores_finales_no_cero)"
   ]
  },
  {
   "cell_type": "code",
   "execution_count": 8,
   "metadata": {},
   "outputs": [
    {
     "name": "stdout",
     "output_type": "stream",
     "text": [
      "Termino luego de intentar concatenar el batch numero 0\n"
     ]
    },
    {
     "data": {
      "text/plain": [
       "[]"
      ]
     },
     "execution_count": 8,
     "metadata": {},
     "output_type": "execute_result"
    }
   ],
   "source": [
    "def concatenateTargetVectors():\n",
    "    i = 0\n",
    "    all_arrays = []\n",
    "    while True:\n",
    "        try:\n",
    "            file_pattern = './experiments/targets/targets*.npy'\n",
    "            file_pattern_temp = file_pattern.replace(\"*\",f\"{i}\")\n",
    "            loaded_arrays = np.load(file_pattern_temp)\n",
    "            print(loaded_arrays)\n",
    "            loaded_arrays_target = devolverUltimaPosicionNoNula(loaded_arrays)\n",
    "            print(loaded_arrays_target.shape)\n",
    "            all_arrays.append(loaded_arrays_target)\n",
    "            i+=1\n",
    "        except:\n",
    "            print(f\"Termino luego de intentar concatenar el batch numero {i}\")\n",
    "            break\n",
    "    return all_arrays\n",
    "\n",
    "concatenateTargetVectors()"
   ]
  },
  {
   "cell_type": "code",
   "execution_count": null,
   "metadata": {},
   "outputs": [],
   "source": [
    "ile_pattern = './experiments/targets/targets*.npy'\n",
    "file_pattern_temp = file_pattern.replace(\"*\",f\"{i}\")"
   ]
  },
  {
   "cell_type": "code",
   "execution_count": null,
   "metadata": {},
   "outputs": [],
   "source": []
  },
  {
   "cell_type": "code",
   "execution_count": 6,
   "metadata": {},
   "outputs": [
    {
     "name": "stdout",
     "output_type": "stream",
     "text": [
      "./experiments/targets/targets0.npy\n",
      "Termino luego de intentar concatenar el batch numero 0\n"
     ]
    },
    {
     "data": {
      "text/plain": [
       "[]"
      ]
     },
     "execution_count": 6,
     "metadata": {},
     "output_type": "execute_result"
    }
   ],
   "source": []
  },
  {
   "cell_type": "code",
   "execution_count": null,
   "metadata": {},
   "outputs": [],
   "source": []
  },
  {
   "cell_type": "code",
   "execution_count": null,
   "metadata": {},
   "outputs": [],
   "source": []
  },
  {
   "cell_type": "code",
   "execution_count": null,
   "metadata": {},
   "outputs": [],
   "source": []
  },
  {
   "cell_type": "code",
   "execution_count": null,
   "metadata": {},
   "outputs": [],
   "source": []
  },
  {
   "cell_type": "code",
   "execution_count": null,
   "metadata": {},
   "outputs": [],
   "source": []
  }
 ],
 "metadata": {
  "kernelspec": {
   "display_name": "env_tesis",
   "language": "python",
   "name": "python3"
  },
  "language_info": {
   "codemirror_mode": {
    "name": "ipython",
    "version": 3
   },
   "file_extension": ".py",
   "mimetype": "text/x-python",
   "name": "python",
   "nbconvert_exporter": "python",
   "pygments_lexer": "ipython3",
   "version": "3.11.8"
  }
 },
 "nbformat": 4,
 "nbformat_minor": 2
}
