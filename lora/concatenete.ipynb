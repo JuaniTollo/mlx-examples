{
 "cells": [
  {
   "cell_type": "code",
   "execution_count": 5,
   "metadata": {},
   "outputs": [],
   "source": [
    "import numpy as np\n",
    "import os"
   ]
  },
  {
   "cell_type": "code",
   "execution_count": null,
   "metadata": {},
   "outputs": [],
   "source": []
  },
  {
   "cell_type": "code",
   "execution_count": 6,
   "metadata": {},
   "outputs": [],
   "source": [
    "def devolverUltimaPosicionNoNula(array):\n",
    "    # Inicializa una lista para almacenar los valores deseados\n",
    "    valores_finales_no_cero = []\n",
    "\n",
    "    # Itera sobre cada uno de los vectores en el array\n",
    "    for vector in array:\n",
    "        # Filtra el vector para quedarte solo con los valores no cero\n",
    "        valores_no_cero = vector[vector != 0]\n",
    "        # Obtiene el último valor no cero, si existe\n",
    "        if valores_no_cero.size > 0:\n",
    "            ultimo_valor_no_cero = valores_no_cero[-1]\n",
    "        else:\n",
    "            ultimo_valor_no_cero = None  # O lo que consideres apropiado para indicar que no hay valores no cero\n",
    "        # Agrega el valor a la lista\n",
    "        valores_finales_no_cero.append(ultimo_valor_no_cero)\n",
    "    \n",
    "    # Muestra los resultados\n",
    "    return np.array(valores_finales_no_cero)"
   ]
  },
  {
   "cell_type": "code",
   "execution_count": 7,
   "metadata": {},
   "outputs": [],
   "source": [
    "file_pattern = './experiments/results/targets/targets*.npy'\n",
    "file_pattern_temp = file_pattern.replace(\"*\",f\"{0}\")\n",
    "loaded_arrays = np.load(file_pattern_temp)"
   ]
  },
  {
   "cell_type": "code",
   "execution_count": 8,
   "metadata": {},
   "outputs": [
    {
     "data": {
      "text/plain": [
       "array([[28705,    13, 28743,  4939,   272, 13406,   304,  2996,  3624,\n",
       "        28725,   868,  4987,   272,  1080,  7658,  4372,   477,   272,\n",
       "         2877,  2078,   325, 28740, 28725, 28705, 28750, 28725,   442,\n",
       "        28705, 28770,   609,  1992, 19571,   395,   272,  1474,   302,\n",
       "          272,  4714,  4372,  2818,   356,   272, 13406, 28742, 28713,\n",
       "         2758,   304,   272,  2996, 28742, 28713, 22570, 28723,  1470,\n",
       "         2426,  1539, 28742, 28707,   576,  1611,   369,  6856,   304,\n",
       "          605,  7134,   399, 13891, 28742, 28713, 10813, 28723, 28705,\n",
       "           13,    13, 28824,  1824,  1235,  1319,  2426,   927,   298,\n",
       "          511,  1159,   456, 28804, 28705,    13, 28789, 24115, 28740,\n",
       "        28767,  6539,   264,   633,  2623,   700, 24115, 28740, 28767,\n",
       "           13, 28789, 24115, 28750, 28767,  7580,  1611,   304,  1032,\n",
       "          399, 13891,   700, 24115, 28750, 28767,    13, 28789, 24115,\n",
       "        28770, 28767, 10779,  8622,   298,   576,   700, 24115, 28770,\n",
       "        28767,   523, 24115, 28740, 28767,  6539,   264,   633,  2623,\n",
       "          700, 24115, 28740, 28767,   523, 24115, 28750, 28767,  7580,\n",
       "         1611,   304,  1032,   399, 13891,   700, 24115, 28750, 28767,\n",
       "          523, 24115, 28770, 28767, 10779,  8622,   298,   576,   700,\n",
       "        24115, 28770, 28767,    13, 28741, 28705, 28770,     0,     0,\n",
       "            0,     0,     0,     0,     0,     0,     0,     0,     0,\n",
       "            0,     0,     0,     0,     0,     0,     0,     0,     0,\n",
       "            0,     0,     0,     0,     0,     0,     0,     0,     0,\n",
       "            0,     0,     0,     0,     0,     0,     0,     0,     0,\n",
       "            0,     0,     0,     0,     0,     0,     0,     0,     0],\n",
       "       [28705,    13, 28743,  4939,   272, 13406,   304,  2996,  3624,\n",
       "        28725,   868,  4987,   272,  1080,  7658,  4372,   477,   272,\n",
       "         2877,  2078,   325, 28740, 28725, 28705, 28750, 28725,   442,\n",
       "        28705, 28770,   609,  1992, 19571,   395,   272,  1474,   302,\n",
       "          272,  4714,  4372,  2818,   356,   272, 13406, 28742, 28713,\n",
       "         2758,   304,   272,  2996, 28742, 28713, 22570, 28723, 28735,\n",
       "         3389,  2705,  5610,  2609,   264, 22354,  2971,  7201,   354,\n",
       "         2268,   562,   863,   459,   506,   707,  2445,   590,   829,\n",
       "         2111,   298,   559, 28723, 14469,  2770,  2607, 19272, 28723,\n",
       "        28705,    13,    13, 28824,  1602,   682,   368,  6685, 14469,\n",
       "        28804, 28705,    13, 28789, 24115, 28740, 28767, 11001, 27642,\n",
       "          700, 24115, 28740, 28767,    13, 28789, 24115, 28750, 28767,\n",
       "         4091,   264,  1338,   693,   403,  9638,   298,  1316,   700,\n",
       "        24115, 28750, 28767,    13, 28789, 24115, 28770, 28767,  1814,\n",
       "          893,  9504,   700, 24115, 28770, 28767,   523, 24115, 28740,\n",
       "        28767, 11001, 27642,   700, 24115, 28740, 28767,   523, 24115,\n",
       "        28750, 28767,  4091,   264,  1338,   693,   403,  9638,   298,\n",
       "         1316,   700, 24115, 28750, 28767,   523, 24115, 28770, 28767,\n",
       "         1814,   893,  9504,   700, 24115, 28770, 28767,    13, 28741,\n",
       "        28705, 28740,     0,     0,     0,     0,     0,     0,     0,\n",
       "            0,     0,     0,     0,     0,     0,     0,     0,     0,\n",
       "            0,     0,     0,     0,     0,     0,     0,     0,     0,\n",
       "            0,     0,     0,     0,     0,     0,     0,     0,     0,\n",
       "            0,     0,     0,     0,     0,     0,     0,     0,     0],\n",
       "       [28705,    13, 28743,  4939,   272, 13406,   304,  2996,  3624,\n",
       "        28725,   868,  4987,   272,  1080,  7658,  4372,   477,   272,\n",
       "         2877,  2078,   325, 28740, 28725, 28705, 28750, 28725,   442,\n",
       "        28705, 28770,   609,  1992, 19571,   395,   272,  1474,   302,\n",
       "          272,  4714,  4372,  2818,   356,   272, 13406, 28742, 28713,\n",
       "         2758,   304,   272,  2996, 28742, 28713, 22570, 28723, 28735,\n",
       "        17497,  4443,   272,  6883, 28742,  4495,   486,  2492,   633,\n",
       "         8427,  8217,  8875,  7876, 19993, 28723, 28705,    13,    13,\n",
       "        28824,  1824,   622,  6883,   947,   298,   511,  1679, 28804,\n",
       "        28705,    13, 28789, 24115, 28740, 28767,  3035,   633,  8427,\n",
       "          700, 24115, 28740, 28767,    13, 28789, 24115, 28750, 28767,\n",
       "          527,  5408,  2065,  7995,   700, 24115, 28750, 28767,    13,\n",
       "        28789, 24115, 28770, 28767, 17064,  3774,   700, 24115, 28770,\n",
       "        28767,   523, 24115, 28740, 28767,  3035,   633,  8427,   700,\n",
       "        24115, 28740, 28767,   523, 24115, 28750, 28767,   527,  5408,\n",
       "         2065,  7995,   700, 24115, 28750, 28767,   523, 24115, 28770,\n",
       "        28767, 17064,  3774,   700, 24115, 28770, 28767,    13, 28741,\n",
       "        28705, 28750,     0,     0,     0,     0,     0,     0,     0,\n",
       "            0,     0,     0,     0,     0,     0,     0,     0,     0,\n",
       "            0,     0,     0,     0,     0,     0,     0,     0,     0,\n",
       "            0,     0,     0,     0,     0,     0,     0,     0,     0,\n",
       "            0,     0,     0,     0,     0,     0,     0,     0,     0,\n",
       "            0,     0,     0,     0,     0,     0,     0,     0,     0,\n",
       "            0,     0,     0,     0,     0,     0,     0,     0,     0],\n",
       "       [28705,    13, 28743,  4939,   272, 13406,   304,  2996,  3624,\n",
       "        28725,   868,  4987,   272,  1080,  7658,  4372,   477,   272,\n",
       "         2877,  2078,   325, 28740, 28725, 28705, 28750, 28725,   442,\n",
       "        28705, 28770,   609,  1992, 19571,   395,   272,  1474,   302,\n",
       "          272,  4714,  4372,  2818,   356,   272, 13406, 28742, 28713,\n",
       "         2758,   304,   272,  2996, 28742, 28713, 22570, 28723, 28798,\n",
       "          556,   276,   403,   297,  5685,   302,  3344,   272,  2887,\n",
       "          356,   272,  2791,   288,  6596,   304,  1749,   544,   272,\n",
       "         2887,   438,  1611, 28723, 28705,    13,    13, 28824,  1602,\n",
       "          682, 14151,  1601, 19272, 28804, 28705,    13, 28789, 24115,\n",
       "        28740, 28767,  1752,  7030,   369,   400,  1346,   516,  3282,\n",
       "         1060,   356,   272,  2791,   288,  6596,   700, 24115, 28740,\n",
       "        28767,    13, 28789, 24115, 28750, 28767, 28716,  9813,   369,\n",
       "          400,  2368, 28742, 28707,   927,   298,   511,   272, 13198,\n",
       "          356,   272,  6596,   700, 24115, 28750, 28767,    13, 28789,\n",
       "        24115, 28770, 28767,   646,  9393,   304, 20141,   684,   272,\n",
       "         2791,   288,  6596,   700, 24115, 28770, 28767,   523, 24115,\n",
       "        28740, 28767,  1752,  7030,   369,   400,  1346,   516,  3282,\n",
       "         1060,   356,   272,  2791,   288,  6596,   700, 24115, 28740,\n",
       "        28767,   523, 24115, 28750, 28767, 28716,  9813,   369,   400,\n",
       "         2368, 28742, 28707,   927,   298,   511,   272, 13198,   356,\n",
       "          272,  6596,   700, 24115, 28750, 28767,   523, 24115, 28770,\n",
       "        28767,   646,  9393,   304, 20141,   684,   272,  2791,   288,\n",
       "         6596,   700, 24115, 28770, 28767,    13, 28741, 28705, 28740]],\n",
       "      dtype=int32)"
      ]
     },
     "execution_count": 8,
     "metadata": {},
     "output_type": "execute_result"
    }
   ],
   "source": [
    "loaded_arrays"
   ]
  },
  {
   "cell_type": "code",
   "execution_count": null,
   "metadata": {},
   "outputs": [],
   "source": []
  },
  {
   "cell_type": "code",
   "execution_count": 9,
   "metadata": {},
   "outputs": [],
   "source": [
    "def convertBatchMatrixToColumnMatrix(T):\n",
    "    datos_aplanados = [elem for sublist in T for elem in sublist]\n",
    "\n",
    "    # Crear una matriz de len(datos_aplanados) x 1\n",
    "    matriz = []\n",
    "    for i in range(len(datos_aplanados)):\n",
    "        matriz.append([datos_aplanados[i]])\n",
    "    return matriz\n",
    "\n",
    "def concatenateTargetVectors():\n",
    "    i = 0\n",
    "    all_arrays = []\n",
    "    while True:\n",
    "        try:\n",
    "            file_pattern = './experiments/results/targets/targets*.npy'\n",
    "            file_pattern_temp = file_pattern.replace(\"*\",f\"{i}\")\n",
    "            loaded_arrays = np.load(file_pattern_temp)\n",
    "            loaded_arrays_target = devolverUltimaPosicionNoNula(loaded_arrays)\n",
    "            all_arrays.append(loaded_arrays_target)\n",
    "            i+=1\n",
    "        except:\n",
    "            print(f\"Termino luego de intentar concatenar el batch numero {i}\")\n",
    "            break\n",
    "    T = np.stack(np.stack(all_arrays))\n",
    "\n",
    "    matriz = convertBatchMatrixToColumnMatrix(T)\n",
    "\n",
    "    return matriz"
   ]
  },
  {
   "cell_type": "code",
   "execution_count": 10,
   "metadata": {},
   "outputs": [
    {
     "name": "stdout",
     "output_type": "stream",
     "text": [
      "Termino luego de intentar concatenar el batch numero 5\n"
     ]
    },
    {
     "data": {
      "text/plain": [
       "list"
      ]
     },
     "execution_count": 10,
     "metadata": {},
     "output_type": "execute_result"
    }
   ],
   "source": [
    "T = concatenateTargetVectors()\n",
    "np.save(f'./experiments/results/targets.npy', T)\n",
    "\n",
    "type(T)"
   ]
  },
  {
   "cell_type": "code",
   "execution_count": 11,
   "metadata": {},
   "outputs": [],
   "source": [
    "import numpy as np\n",
    "\n",
    "def devolverUltimaPosicionNoNulaLogits(array):\n",
    "    # Inicializa una lista para almacenar los arrays resultantes\n",
    "    resultados_finales = []\n",
    "    \n",
    "    # Itera sobre la primera dimensión del array\n",
    "    for subarray in array:\n",
    "        # Inicializa una lista para almacenar los últimos valores no cero de cada vector\n",
    "        ultimos_valores_no_cero = []\n",
    "        \n",
    "        # Itera sobre cada vector en la segunda dimensión (n)\n",
    "        for vector in subarray:\n",
    "            # Identifica los índices de los elementos no cero\n",
    "            indices_no_cero = np.nonzero(vector)[0]\n",
    "            \n",
    "            # Si hay valores no cero, obtiene el último de ellos; de lo contrario, usa un valor por defecto\n",
    "            if indices_no_cero.size > 0:\n",
    "                ultimo_no_cero = vector[indices_no_cero[-1]]\n",
    "            else:\n",
    "                ultimo_no_cero = np.nan  # Puedes usar np.nan o cualquier otro valor que indique \"vacío\" o \"nulo\"\n",
    "            \n",
    "            # Agrega el último valor no cero a la lista\n",
    "            ultimos_valores_no_cero.append(ultimo_no_cero)\n",
    "        \n",
    "        # Agrega el resultado de este subarray a los resultados finales\n",
    "        resultados_finales.append(ultimos_valores_no_cero)\n",
    "    \n",
    "    # Convierte los resultados finales en un array de NumPy antes de devolverlos\n",
    "    return np.array(resultados_finales)\n",
    "\n",
    "# Ejemplo de uso\n",
    "# Supongamos que 'array' es tu array de dimensiones (4, n, 32000)\n",
    "# array = np.random.rand(4, 10, 32000)  # Un ejemplo con datos aleatorios\n",
    "# resultado = devolverUltimaPosicionNoNulaLogits(array)\n",
    "# print(resultado.shape)  # Esto debería darte (4, n) como dimensión\n"
   ]
  },
  {
   "cell_type": "code",
   "execution_count": 12,
   "metadata": {},
   "outputs": [
    {
     "data": {
      "text/plain": [
       "5"
      ]
     },
     "execution_count": 12,
     "metadata": {},
     "output_type": "execute_result"
    }
   ],
   "source": [
    "def contar_archivos_en_directorio(ruta):\n",
    "    # Obtener la lista de archivos en el directorio\n",
    "    archivos = os.listdir(ruta)\n",
    "    # Contar la cantidad de archivos\n",
    "    cantidad_archivos = len(archivos)\n",
    "    return cantidad_archivos\n",
    "\n",
    "# Ruta del directorio que quieres verificar\n",
    "directorio = './experiments/results/logits'\n",
    "contar_archivos_en_directorio(directorio)"
   ]
  },
  {
   "cell_type": "code",
   "execution_count": 13,
   "metadata": {},
   "outputs": [],
   "source": [
    "#una matriz tiene nxpxq dimensiones\n",
    "def returnLastsNotNullLogits(M):\n",
    "    L = []\n",
    "    for i in range(0,4):\n",
    "        p = M.shape[1]-1\n",
    "        while np.all(M[i,p,:]==0):\n",
    "            p -= 1\n",
    "        L_i = M[i,p,:]\n",
    "        L.append(L_i)\n",
    "    L = np.stack(L)\n",
    "    return L\n",
    "\n",
    "def concatenateLogitsMatrix():\n",
    "    i = 0\n",
    "    L = []\n",
    "    directorio = './experiments/results/logits'\n",
    "    b = contar_archivos_en_directorio(directorio)\n",
    "\n",
    "    for i in range(0,b):\n",
    "        file_pattern = './experiments/results/logits/logits*.npy'\n",
    "        file_pattern_temp = file_pattern.replace(\"*\",f\"{i}\")\n",
    "        loaded_arrays = np.load(file_pattern_temp)\n",
    "        \n",
    "        loaded_arrays_target = returnLastsNotNullLogits(loaded_arrays)\n",
    "        \n",
    "        L.append(loaded_arrays_target)\n",
    "        i+=1\n",
    "    \n",
    "    L = np.array(L)\n",
    "    # Concatenar todas las matrices de la lista a lo largo del eje de las filas (eje 0)\n",
    "    matriz_combinada = np.concatenate(L, axis=0)\n",
    "    return matriz_combinada\n",
    "    "
   ]
  },
  {
   "cell_type": "code",
   "execution_count": 14,
   "metadata": {},
   "outputs": [],
   "source": [
    "M = concatenateLogitsMatrix()\n",
    "np.save(f'./experiments/results/logits.npy', M)\n"
   ]
  },
  {
   "cell_type": "code",
   "execution_count": 16,
   "metadata": {},
   "outputs": [
    {
     "data": {
      "text/plain": [
       "array([[ 1.549318  ,  2.4215775 ,  2.4163964 , ...,  4.061487  ,\n",
       "         0.14885032,  1.9643748 ],\n",
       "       [ 2.8729515 ,  3.635288  ,  0.9908796 , ...,  3.546421  ,\n",
       "         0.8870732 ,  2.337658  ],\n",
       "       [ 7.025896  ,  7.779136  , -0.46935284, ...,  6.9208355 ,\n",
       "         4.0178137 ,  4.7748632 ],\n",
       "       ...,\n",
       "       [-5.488501  , -5.2944813 ,  4.035522  , ..., -2.0594206 ,\n",
       "        -3.856583  , -1.5635064 ],\n",
       "       [-9.642072  , -9.868422  ,  2.3511348 , ..., -6.920968  ,\n",
       "        -5.156275  , -4.8047953 ],\n",
       "       [ 4.489992  ,  4.9403715 , -3.139014  , ...,  5.175676  ,\n",
       "         2.129511  ,  3.1826367 ]], dtype=float32)"
      ]
     },
     "execution_count": 16,
     "metadata": {},
     "output_type": "execute_result"
    }
   ],
   "source": [
    "M"
   ]
  },
  {
   "cell_type": "code",
   "execution_count": null,
   "metadata": {},
   "outputs": [],
   "source": []
  },
  {
   "cell_type": "code",
   "execution_count": null,
   "metadata": {},
   "outputs": [],
   "source": []
  }
 ],
 "metadata": {
  "kernelspec": {
   "display_name": "env_tesis",
   "language": "python",
   "name": "python3"
  },
  "language_info": {
   "codemirror_mode": {
    "name": "ipython",
    "version": 3
   },
   "file_extension": ".py",
   "mimetype": "text/x-python",
   "name": "python",
   "nbconvert_exporter": "python",
   "pygments_lexer": "ipython3",
   "version": "3.11.8"
  }
 },
 "nbformat": 4,
 "nbformat_minor": 2
}
