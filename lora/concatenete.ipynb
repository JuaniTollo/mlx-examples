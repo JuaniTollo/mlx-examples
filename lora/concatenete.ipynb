{
 "cells": [
  {
   "cell_type": "code",
   "execution_count": 1,
   "metadata": {},
   "outputs": [],
   "source": [
    "import numpy as np\n",
    "import os"
   ]
  },
  {
   "cell_type": "code",
   "execution_count": 2,
   "metadata": {},
   "outputs": [],
   "source": [
    "def devolverUltimaPosicionNoNula(array):\n",
    "    # Inicializa una lista para almacenar los valores deseados\n",
    "    valores_finales_no_cero = []\n",
    "\n",
    "    # Itera sobre cada uno de los vectores en el array\n",
    "    for vector in array:\n",
    "        # Filtra el vector para quedarte solo con los valores no cero\n",
    "        valores_no_cero = vector[vector != 0]\n",
    "        # Obtiene el último valor no cero, si existe\n",
    "        if valores_no_cero.size > 0:\n",
    "            ultimo_valor_no_cero = valores_no_cero[-1]\n",
    "        else:\n",
    "            ultimo_valor_no_cero = None  # O lo que consideres apropiado para indicar que no hay valores no cero\n",
    "        # Agrega el valor a la lista\n",
    "        valores_finales_no_cero.append(ultimo_valor_no_cero)\n",
    "    \n",
    "    # Muestra los resultados\n",
    "    return np.array(valores_finales_no_cero)"
   ]
  },
  {
   "cell_type": "code",
   "execution_count": 31,
   "metadata": {},
   "outputs": [],
   "source": [
    "def convertBatchMatrixToColumnMatrix(T):\n",
    "    datos_aplanados = [elem for sublist in T for elem in sublist]\n",
    "\n",
    "    # Crear una matriz de len(datos_aplanados) x 1\n",
    "    matriz = []\n",
    "    for i in range(len(datos_aplanados)):\n",
    "        matriz.append([datos_aplanados[i]])\n",
    "    return matriz\n",
    "\n",
    "def concatenateTargetVectors():\n",
    "    i = 0\n",
    "    all_arrays = []\n",
    "    while True:\n",
    "        try:\n",
    "            file_pattern = './experiments/results/targets/targets*.npy'\n",
    "            file_pattern_temp = file_pattern.replace(\"*\",f\"{i}\")\n",
    "            loaded_arrays = np.load(file_pattern_temp)\n",
    "            loaded_arrays_target = devolverUltimaPosicionNoNula(loaded_arrays)\n",
    "            all_arrays.append(loaded_arrays_target)\n",
    "            i+=1\n",
    "        except:\n",
    "            print(f\"Termino luego de intentar concatenar el batch numero {i}\")\n",
    "            break\n",
    "    T = np.stack(np.stack(all_arrays))\n",
    "\n",
    "    matriz = convertBatchMatrixToColumnMatrix(T)\n",
    "\n",
    "    return matriz"
   ]
  },
  {
   "cell_type": "code",
   "execution_count": 34,
   "metadata": {},
   "outputs": [
    {
     "name": "stdout",
     "output_type": "stream",
     "text": [
      "Termino luego de intentar concatenar el batch numero 5\n"
     ]
    },
    {
     "data": {
      "text/plain": [
       "list"
      ]
     },
     "execution_count": 34,
     "metadata": {},
     "output_type": "execute_result"
    }
   ],
   "source": [
    "T = concatenateTargetVectors()\n",
    "np.save(f'./experiments/results/targets.npy', T)\n",
    "\n",
    "type(T)"
   ]
  },
  {
   "cell_type": "code",
   "execution_count": 36,
   "metadata": {},
   "outputs": [],
   "source": [
    "import numpy as np\n",
    "\n",
    "def devolverUltimaPosicionNoNulaLogits(array):\n",
    "    # Inicializa una lista para almacenar los arrays resultantes\n",
    "    resultados_finales = []\n",
    "    \n",
    "    # Itera sobre la primera dimensión del array\n",
    "    for subarray in array:\n",
    "        # Inicializa una lista para almacenar los últimos valores no cero de cada vector\n",
    "        ultimos_valores_no_cero = []\n",
    "        \n",
    "        # Itera sobre cada vector en la segunda dimensión (n)\n",
    "        for vector in subarray:\n",
    "            # Identifica los índices de los elementos no cero\n",
    "            indices_no_cero = np.nonzero(vector)[0]\n",
    "            \n",
    "            # Si hay valores no cero, obtiene el último de ellos; de lo contrario, usa un valor por defecto\n",
    "            if indices_no_cero.size > 0:\n",
    "                ultimo_no_cero = vector[indices_no_cero[-1]]\n",
    "            else:\n",
    "                ultimo_no_cero = np.nan  # Puedes usar np.nan o cualquier otro valor que indique \"vacío\" o \"nulo\"\n",
    "            \n",
    "            # Agrega el último valor no cero a la lista\n",
    "            ultimos_valores_no_cero.append(ultimo_no_cero)\n",
    "        \n",
    "        # Agrega el resultado de este subarray a los resultados finales\n",
    "        resultados_finales.append(ultimos_valores_no_cero)\n",
    "    \n",
    "    # Convierte los resultados finales en un array de NumPy antes de devolverlos\n",
    "    return np.array(resultados_finales)\n",
    "\n",
    "# Ejemplo de uso\n",
    "# Supongamos que 'array' es tu array de dimensiones (4, n, 32000)\n",
    "# array = np.random.rand(4, 10, 32000)  # Un ejemplo con datos aleatorios\n",
    "# resultado = devolverUltimaPosicionNoNulaLogits(array)\n",
    "# print(resultado.shape)  # Esto debería darte (4, n) como dimensión\n"
   ]
  },
  {
   "cell_type": "code",
   "execution_count": 44,
   "metadata": {},
   "outputs": [
    {
     "data": {
      "text/plain": [
       "5"
      ]
     },
     "execution_count": 44,
     "metadata": {},
     "output_type": "execute_result"
    }
   ],
   "source": [
    "def contar_archivos_en_directorio(ruta):\n",
    "    # Obtener la lista de archivos en el directorio\n",
    "    archivos = os.listdir(ruta)\n",
    "    # Contar la cantidad de archivos\n",
    "    cantidad_archivos = len(archivos)\n",
    "    return cantidad_archivos\n",
    "\n",
    "# Ruta del directorio que quieres verificar\n",
    "directorio = './experiments/results/logits'\n",
    "contar_archivos_en_directorio(directorio)"
   ]
  },
  {
   "cell_type": "code",
   "execution_count": 111,
   "metadata": {},
   "outputs": [],
   "source": [
    "#una matriz tiene nxpxq dimensiones\n",
    "def returnLastsNotNullLogits(M):\n",
    "    L = []\n",
    "    for i in range(0,4):\n",
    "        p = M.shape[1]-1\n",
    "        while np.all(M[i,p,:]==0):\n",
    "            p -= 1\n",
    "        L_i = M[i,p,:]\n",
    "        L.append(L_i)\n",
    "    L = np.stack(L)\n",
    "    return L\n",
    "\n",
    "def concatenateLogitsMatrix():\n",
    "    i = 0\n",
    "    L = []\n",
    "    directorio = './experiments/results/logits'\n",
    "    b = contar_archivos_en_directorio(directorio)\n",
    "\n",
    "    for i in range(0,b):\n",
    "        file_pattern = './experiments/results/logits/logits*.npy'\n",
    "        file_pattern_temp = file_pattern.replace(\"*\",f\"{i}\")\n",
    "        loaded_arrays = np.load(file_pattern_temp)\n",
    "        \n",
    "        loaded_arrays_target = returnLastsNotNullLogits(loaded_arrays)\n",
    "        \n",
    "        L.append(loaded_arrays_target)\n",
    "        i+=1\n",
    "    \n",
    "    L = np.array(L)\n",
    "    # Concatenar todas las matrices de la lista a lo largo del eje de las filas (eje 0)\n",
    "    matriz_combinada = np.concatenate(L, axis=0)\n",
    "    return matriz_combinada\n",
    "    "
   ]
  },
  {
   "cell_type": "code",
   "execution_count": 115,
   "metadata": {},
   "outputs": [],
   "source": [
    "M = concatenateLogitsMatrix()\n",
    "np.save(f'./experiments/results/logits.npy', M)\n"
   ]
  }
 ],
 "metadata": {
  "kernelspec": {
   "display_name": "env_tesis",
   "language": "python",
   "name": "python3"
  },
  "language_info": {
   "codemirror_mode": {
    "name": "ipython",
    "version": 3
   },
   "file_extension": ".py",
   "mimetype": "text/x-python",
   "name": "python",
   "nbconvert_exporter": "python",
   "pygments_lexer": "ipython3",
   "version": "3.11.8"
  }
 },
 "nbformat": 4,
 "nbformat_minor": 2
}
